{
 "cells": [
  {
   "cell_type": "code",
   "execution_count": 1,
   "metadata": {},
   "outputs": [],
   "source": [
    "import pandas as pd\n",
    "import plotly.express as px\n",
    "import matplotlib.pyplot as plt"
   ]
  },
  {
   "cell_type": "code",
   "execution_count": 167,
   "metadata": {},
   "outputs": [],
   "source": [
    "def clean_df(df, suppr_str, keep_str):\n",
    "    df = df.drop(columns=['Unnamed: 0'])\n",
    "    df['date'] = df['date'].astype(str)\n",
    "    columns = [x for x in df.columns.to_list() if '_norm' not in x and '_dis' not in x and 'std' not in x]\n",
    "    columns = [x for x in columns if 'morning' in x or 'afternoon' in x or 'evening' in x or 'night' in x]\n",
    "    \n",
    "    for s in keep_str:\n",
    "        columns = [x for x in columns if s in x]\n",
    "    \n",
    "    df = df[['pid','date'] + columns]\n",
    "    \n",
    "    for s in suppr_str:\n",
    "        df.columns = [x.replace(s, '') for x in df.columns]\n",
    "\n",
    "    df.columns = [x.replace(':morning', '_12:00').replace(':afternoon', '_18:00').replace(':evening', '_00:00').replace(':night', '_06:00') for x in df.columns]\n",
    "    df.fillna(0, inplace=True)\n",
    "\n",
    "    df = df.melt(id_vars=['pid', 'date'], value_vars=df.columns.to_list()[2:])\n",
    "    df = df.sort_values(by=['pid', 'date', 'variable']).reset_index(drop=True)\n",
    "\n",
    "    df['hour'] = df['variable'].apply(lambda x: x.split('_')[1]) \n",
    "    df['variable'] = df['variable'].apply(lambda x: x.split('_')[0])\n",
    "\n",
    "    df['date'] = df['date'] + ':' + df['hour']\n",
    "    df = df.drop(columns=['hour'])\n",
    "    df['date'] = pd.to_datetime(df['date'], format='%Y-%m-%d:%H:%M')\n",
    "    \n",
    "    df = df.pivot(index=['pid', 'date'], columns='variable', values='value').reset_index()\n",
    "    \n",
    "    return df"
   ]
  },
  {
   "cell_type": "code",
   "execution_count": 168,
   "metadata": {},
   "outputs": [
    {
     "name": "stderr",
     "output_type": "stream",
     "text": [
      "/var/folders/51/b8ym03ns147cjmm4gt5_l48h0000gn/T/ipykernel_9042/367776588.py:3: DtypeWarning: Columns (808,809,810,811,812,813,814) have mixed types. Specify dtype option on import or set low_memory=False.\n",
      "  df_screen = pd.read_csv('data/physionet.org/files/globem/1.1/INS-W_1/FeatureData/screen.csv')\n"
     ]
    }
   ],
   "source": [
    "df_steps = pd.read_csv('data/physionet.org/files/globem/1.1/INS-W_1/FeatureData/steps.csv')\n",
    "df_sleep = pd.read_csv('data/physionet.org/files/globem/1.1/INS-W_1/FeatureData/sleep.csv')\n",
    "df_screen = pd.read_csv('data/physionet.org/files/globem/1.1/INS-W_1/FeatureData/screen.csv')"
   ]
  },
  {
   "cell_type": "code",
   "execution_count": 169,
   "metadata": {},
   "outputs": [],
   "source": [
    "df_steps = clean_df(df_steps, ['f_steps:fitbit_steps_intraday_rapids_', 'bout'], ['intraday'])\n",
    "df_sleep = clean_df(df_sleep, ['f_slp:fitbit_sleep_intraday_rapids_', 'main', 'unified', 'within'], ['intraday'])\n",
    "df_screen = clean_df(df_screen, ['f_screen:phone_screen_rapids_', '_', 'locmap'], [])"
   ]
  },
  {
   "cell_type": "code",
   "execution_count": 174,
   "metadata": {},
   "outputs": [],
   "source": [
    "df_steps = df_steps[df_steps['pid'] == 'INS-W_001']\n",
    "df_sleep = df_sleep[df_sleep['pid'] == 'INS-W_001']\n",
    "df_screen = df_screen[df_screen['pid'] == 'INS-W_001']"
   ]
  },
  {
   "cell_type": "code",
   "execution_count": 182,
   "metadata": {},
   "outputs": [],
   "source": [
    "df_steps.to_csv('data/physionet_cleaned/steps.csv', index=False)\n",
    "df_sleep.to_csv('data/physionet_cleaned/sleep.csv', index=False)\n",
    "df_screen.to_csv('data/physionet_cleaned/screen.csv', index=False)"
   ]
  },
  {
   "cell_type": "code",
   "execution_count": null,
   "metadata": {},
   "outputs": [],
   "source": []
  }
 ],
 "metadata": {
  "kernelspec": {
   "display_name": ".venv",
   "language": "python",
   "name": "python3"
  },
  "language_info": {
   "codemirror_mode": {
    "name": "ipython",
    "version": 3
   },
   "file_extension": ".py",
   "mimetype": "text/x-python",
   "name": "python",
   "nbconvert_exporter": "python",
   "pygments_lexer": "ipython3",
   "version": "3.11.5"
  },
  "orig_nbformat": 4
 },
 "nbformat": 4,
 "nbformat_minor": 2
}
